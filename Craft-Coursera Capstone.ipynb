{
    "nbformat_minor": 1, 
    "cells": [
        {
            "source": "# Nashville, TN *the* Music City? \n", 
            "cell_type": "markdown", 
            "metadata": {
                "collapsed": true
            }
        }, 
        {
            "source": "### Introduction/Business Problem", 
            "cell_type": "markdown", 
            "metadata": {}
        }, 
        {
            "source": "Question: What city can really claim to be the Music City? \n\nAudience: Tourist Publications, Social Media, General Reputation \n\nNashville, Tennesse has the claim of fame of being Music City USA. In the past few years Nashville has seen rapid expansion in many other industries. Many people compare Nashville, TN to Austiin, TX. Both cities are upcoming large southern metropolis, who also both claim their large music scenes. I want to use the data science methodology to try to prove its claim to fame on the world stage. If Nashville is able to say it is the definitive Music City of the United States, it will increase its reputation on the map even further bringing more tourist, more business, and more people to the city I call home. ", 
            "cell_type": "markdown", 
            "metadata": {}
        }, 
        {
            "source": "### Data Sources", 
            "cell_type": "markdown", 
            "metadata": {}
        }, 
        {
            "source": "I will leverage the Foursquare location data to find the number of music venues in each zipcode of the city, and then compare the amount of music venues, diversity of music played there, and overall ranking of the venues to the world's other city well known city for music, a classic Nashville rival: Austin, Texas. \n\nFoursquare Location Date:\nVenue Type- Live Music- Will give me the respective totals of places to go see live music for each. \nVenue Rating- I will take the average rating of each location and compare the two cities music venues average rating. It gives further depth into the quality of the music venues. \nVenue Location- Will allow me to group the neighborhoods to where the music venues locations are. The distance between each music venue could give insights into the distribution of the designed environment.\nMusic Genre at the Music Venue? \n\nNashville, TN:\nZip Code Information\nNeighborhood Information\n\nAustin, TX;\nZip Code Information\nNeighborhood Information \n", 
            "cell_type": "markdown", 
            "metadata": {}
        }
    ], 
    "metadata": {
        "kernelspec": {
            "display_name": "Python 3.6", 
            "name": "python3", 
            "language": "python"
        }, 
        "language_info": {
            "mimetype": "text/x-python", 
            "nbconvert_exporter": "python", 
            "version": "3.6.8", 
            "name": "python", 
            "file_extension": ".py", 
            "pygments_lexer": "ipython3", 
            "codemirror_mode": {
                "version": 3, 
                "name": "ipython"
            }
        }
    }, 
    "nbformat": 4
}